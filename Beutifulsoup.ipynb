{
 "cells": [
  {
   "cell_type": "code",
   "execution_count": 1,
   "metadata": {},
   "outputs": [],
   "source": [
    "import requests\n",
    "from bs4 import BeautifulSoup as BS\n",
    "from unidecode import unidecode"
   ]
  },
  {
   "cell_type": "markdown",
   "metadata": {},
   "source": [
    "# Finn.no house and apartment scraper"
   ]
  },
  {
   "cell_type": "markdown",
   "metadata": {},
   "source": [
    "# Validators"
   ]
  },
  {
   "cell_type": "code",
   "execution_count": 2,
   "metadata": {},
   "outputs": [],
   "source": [
    "def vali_only_one_price(soup_item):\n",
    "    '''\n",
    "    Check if its only one or more prices.\n",
    "    If its two prices it means its apartment complex that is not done yet\n",
    "    '''\n",
    "    check = 0\n",
    "    for item in soup_item.find_all('span',class_='u-t3'):\n",
    "        if 'kr' in unidecode(item.get_text()):\n",
    "            check= check + 1\n",
    "    if check <= 1:\n",
    "        return True\n",
    "    else:\n",
    "        return False\n",
    "\n",
    "def vali_price_info(item):\n",
    "    '''\n",
    "    Checks if an item is inside the price information we are looking for.\n",
    "    Returns True if is. Else it returns False.\n",
    "    '''\n",
    "    price_info = ['Prisantydning','Fellesgjeld','Omkostninger','Totalpris','Felleskost/mnd.']\n",
    "    if item in price_info:\n",
    "        return True\n",
    "    else:\n",
    "        return False\n",
    "\n",
    "def vali_house_info(item):\n",
    "    '''\n",
    "    checks if an item is inside the house information we are looking for.\n",
    "    Returns True if it is. Else it returns False\n",
    "    '''\n",
    "    house_info = [\n",
    "        'Adress','Boligtype','Eieform bolig','Soverom','Primærrom','Bruksareal',\n",
    "        'Grunnflate','Etasje','Byggeår','Rom',\n",
    "        'Tomteareal','Bruttoareal','Areal',]\n",
    "    if item in house_info:\n",
    "        return True\n",
    "    else:\n",
    "        return False\n",
    "\n",
    "def vali_has_numbers(string):\n",
    "    '''\n",
    "    Checks wheter a string contains numbers. Returns True if there is numbers in string, or False otherwise\n",
    "    '''\n",
    "    return any(char.isdigit() for char in string)\n",
    "\n",
    "def vali_house_object(price_info_dict,house_info_dict):\n",
    "    errors=0\n",
    "    if type(price_info_dict['Prisantydning']) != int:\n",
    "        errors+=1\n",
    "        print('Prisantydning is not int')\n",
    "    try:\n",
    "        house_info_dict['Bruttoareal']==0\n",
    "        errors+=1\n",
    "        print('Bruttoareal = 0')\n",
    "    except KeyError:\n",
    "        errors+=1\n",
    "        print('Bruttoareal does not exist')\n",
    "    if errors == 0:\n",
    "        return True\n",
    "    else:\n",
    "        return False"
   ]
  },
  {
   "cell_type": "markdown",
   "metadata": {},
   "source": [
    "# Support functions"
   ]
  },
  {
   "cell_type": "code",
   "execution_count": 8,
   "metadata": {},
   "outputs": [],
   "source": [
    "def soup_object(url):\n",
    "    '''\n",
    "    Takes in an url and makes a soup object \n",
    "    '''\n",
    "    page = requests.get(url)\n",
    "    soup = BS(page.content,'html.parser')\n",
    "    return soup\n",
    "\n",
    "def find_adress(soup):\n",
    "    '''\n",
    "    Returns the adress of the apartment\n",
    "    '''\n",
    "    adress = soup.find_all('p',class_='u-caption')[0].get_text()\n",
    "    return adress\n",
    "\n",
    "def find_price(soup):\n",
    "    '''\n",
    "    Returns the asking price of the apartment\n",
    "    '''\n",
    "    all_objects = soup.find_all('span',class_='u-t3')\n",
    "    price = ''\n",
    "    for x in all_objects:\n",
    "        if 'kr' in x.get_text():\n",
    "            raw_price = x.get_text()\n",
    "            price = unidecode(raw_price)\n",
    "    #Removes white space and \\n if in the price\n",
    "    if '\\n' in price:\n",
    "        price = price.splitlines()[1].strip()\n",
    "    if price == '':\n",
    "        price = 'Error in find price function'\n",
    "        return price\n",
    "    else:\n",
    "        price = convert_to_int(price)\n",
    "        return price\n",
    "    \n",
    "def convert_to_int(string):\n",
    "    if string == '':\n",
    "        return 0\n",
    "    else:\n",
    "        return int(''.join(filter(str.isdigit, string)))\n",
    "\n",
    "def find_house_information(soup):\n",
    "    ''''''\n",
    "    #Find all the information\n",
    "    raw_description = soup.find_all('dt')\n",
    "    raw_value = soup.find_all('dd')\n",
    "    #Empty lists used for formating\n",
    "    description = []\n",
    "    value = []\n",
    "    price_info_dict={}\n",
    "    house_info_dict={}\n",
    "    #Populating the lists with cleaned information\n",
    "    for x in raw_description:\n",
    "        description.append(x.get_text())\n",
    "    for y in raw_value:\n",
    "        formated_value = y.get_text()\n",
    "        cleaned_value = unidecode(formated_value)\n",
    "        if '\\n' in cleaned_value:\n",
    "            cleaned_value = cleaned_value.splitlines()[1].strip()\n",
    "        if vali_has_numbers(cleaned_value):\n",
    "            if 'm2' in cleaned_value:\n",
    "                cleaned_value = cleaned_value.strip('m2')\n",
    "                cleaned_value = convert_to_int(cleaned_value)\n",
    "            elif 'm²' in cleaned_value:\n",
    "                cleaned_value = cleaned_value.strip('m²')\n",
    "                cleaned_value = convert_to_int(cleaned_value)\n",
    "            else:\n",
    "                cleaned_value = convert_to_int(cleaned_value)\n",
    "        value.append(cleaned_value)\n",
    "    #Creating empty dict to populate with formatted and clean values\n",
    "    information = {}\n",
    "    information['Prisantydning']= find_price(soup)\n",
    "    information['Adress']=find_adress(soup)\n",
    "    for x,y in zip(description,value):\n",
    "        information[x]=y\n",
    "    #Sort information after validators\n",
    "    for item in information.items():\n",
    "        if vali_price_info(item[0]):\n",
    "            price_info_dict[item[0]]=item[1]\n",
    "        elif vali_house_info(item[0]):\n",
    "            house_info_dict[item[0]]=item[1]\n",
    "    return price_info_dict,house_info_dict\n",
    "\n",
    "def find_links_to_ads(link):\n",
    "    cut='page='\n",
    "    annonser=[]\n",
    "    if cut in link:\n",
    "        string_1= link[:link.index(cut)+len(cut)]\n",
    "        string_2= link[link.index(cut)+len(cut)+1:]\n",
    "\n",
    "        for x in range(10):\n",
    "            search = string_1+str(x)+string_2\n",
    "            soup = soup_object(search)\n",
    "            all_objects = soup.find_all('a',class_='ads__unit__link')\n",
    "            all_objects = all_objects[1:]\n",
    "            if len(all_objects)!= 0:\n",
    "                for y in all_objects:\n",
    "                    ad_link = 'http://finn.no'+y['href']\n",
    "                    annonser.append(ad_link)\n",
    "            else:\n",
    "                print('Did not find more ads, search ended at page: {}'.format(x))\n",
    "                break\n",
    "    else:\n",
    "        soup = soup_object(link)\n",
    "        all_objects = soup.find_all('a',class_='ads__unit__link')\n",
    "        all_objects = all_objects[1:]\n",
    "        for y in all_objects:\n",
    "            ad_link = 'http://finn.no'+y['href']\n",
    "            annonser.append(ad_link)\n",
    "\n",
    "    return annonser\n",
    "\n",
    "def find_zip(adress):\n",
    "    '''\n",
    "    Extracts the zip code from and adress string formated with adresss, zip city\n",
    "    '''\n",
    "    res = [int(i) for i in adress.split() if i.isdigit()]\n",
    "    if len(res)==1:\n",
    "        return res[0]\n",
    "    else:\n",
    "        return res[1]\n",
    "\n",
    "def find_picture_url(soup):\n",
    "    img = soup.find_all('img',class_=\"img-format__img u-border-radius-8px\")[0]\n",
    "    url = img['srcset'].split(',')[0].split(' ')[0]\n",
    "    return url"
   ]
  },
  {
   "cell_type": "markdown",
   "metadata": {},
   "source": [
    "# Objects"
   ]
  },
  {
   "cell_type": "code",
   "execution_count": 4,
   "metadata": {},
   "outputs": [],
   "source": [
    "class HouseClass:\n",
    "    def __init__(self,soup):\n",
    "        self.adress,self.district = find_adress(soup)\n",
    "        self.price,self.house = find_house_information(soup)\n",
    "    \n",
    "    def __str__(self):\n",
    "        return self.adress"
   ]
  },
  {
   "cell_type": "markdown",
   "metadata": {},
   "source": [
    "# Script for list of apartment"
   ]
  },
  {
   "cell_type": "code",
   "execution_count": 5,
   "metadata": {},
   "outputs": [
    {
     "ename": "ValueError",
     "evalue": "substring not found",
     "output_type": "error",
     "traceback": [
      "\u001b[1;31m---------------------------------------------------------------------------\u001b[0m",
      "\u001b[1;31mValueError\u001b[0m                                Traceback (most recent call last)",
      "\u001b[1;32m<ipython-input-5-a5cc7f4722b5>\u001b[0m in \u001b[0;36m<module>\u001b[1;34m\u001b[0m\n\u001b[0;32m      1\u001b[0m \u001b[0mlink\u001b[0m \u001b[1;33m=\u001b[0m \u001b[1;34m'https://www.finn.no/realestate/homes/search.html?filters=&location=1.22038.20131&published=1'\u001b[0m\u001b[1;33m\u001b[0m\u001b[1;33m\u001b[0m\u001b[0m\n\u001b[0;32m      2\u001b[0m \u001b[1;33m\u001b[0m\u001b[0m\n\u001b[1;32m----> 3\u001b[1;33m \u001b[0mannonser\u001b[0m\u001b[1;33m=\u001b[0m \u001b[0mfind_links_to_ads\u001b[0m\u001b[1;33m(\u001b[0m\u001b[0mlink\u001b[0m\u001b[1;33m)\u001b[0m\u001b[1;33m\u001b[0m\u001b[1;33m\u001b[0m\u001b[0m\n\u001b[0m\u001b[0;32m      4\u001b[0m \u001b[1;33m\u001b[0m\u001b[0m\n\u001b[0;32m      5\u001b[0m \u001b[0mresults\u001b[0m\u001b[1;33m=\u001b[0m\u001b[1;33m{\u001b[0m\u001b[1;33m}\u001b[0m\u001b[1;33m\u001b[0m\u001b[1;33m\u001b[0m\u001b[0m\n",
      "\u001b[1;32m<ipython-input-3-ef58f32e7c85>\u001b[0m in \u001b[0;36mfind_links_to_ads\u001b[1;34m(link)\u001b[0m\n\u001b[0;32m     84\u001b[0m \u001b[1;32mdef\u001b[0m \u001b[0mfind_links_to_ads\u001b[0m\u001b[1;33m(\u001b[0m\u001b[0mlink\u001b[0m\u001b[1;33m)\u001b[0m\u001b[1;33m:\u001b[0m\u001b[1;33m\u001b[0m\u001b[1;33m\u001b[0m\u001b[0m\n\u001b[0;32m     85\u001b[0m     \u001b[0mcut\u001b[0m\u001b[1;33m=\u001b[0m\u001b[1;34m'page='\u001b[0m\u001b[1;33m\u001b[0m\u001b[1;33m\u001b[0m\u001b[0m\n\u001b[1;32m---> 86\u001b[1;33m     \u001b[0mstring_1\u001b[0m\u001b[1;33m=\u001b[0m \u001b[0mlink\u001b[0m\u001b[1;33m[\u001b[0m\u001b[1;33m:\u001b[0m\u001b[0mlink\u001b[0m\u001b[1;33m.\u001b[0m\u001b[0mindex\u001b[0m\u001b[1;33m(\u001b[0m\u001b[0mcut\u001b[0m\u001b[1;33m)\u001b[0m\u001b[1;33m+\u001b[0m\u001b[0mlen\u001b[0m\u001b[1;33m(\u001b[0m\u001b[0mcut\u001b[0m\u001b[1;33m)\u001b[0m\u001b[1;33m]\u001b[0m\u001b[1;33m\u001b[0m\u001b[1;33m\u001b[0m\u001b[0m\n\u001b[0m\u001b[0;32m     87\u001b[0m     \u001b[0mstring_2\u001b[0m\u001b[1;33m=\u001b[0m \u001b[0mlink\u001b[0m\u001b[1;33m[\u001b[0m\u001b[0mlink\u001b[0m\u001b[1;33m.\u001b[0m\u001b[0mindex\u001b[0m\u001b[1;33m(\u001b[0m\u001b[0mcut\u001b[0m\u001b[1;33m)\u001b[0m\u001b[1;33m+\u001b[0m\u001b[0mlen\u001b[0m\u001b[1;33m(\u001b[0m\u001b[0mcut\u001b[0m\u001b[1;33m)\u001b[0m\u001b[1;33m+\u001b[0m\u001b[1;36m1\u001b[0m\u001b[1;33m:\u001b[0m\u001b[1;33m]\u001b[0m\u001b[1;33m\u001b[0m\u001b[1;33m\u001b[0m\u001b[0m\n\u001b[0;32m     88\u001b[0m \u001b[1;33m\u001b[0m\u001b[0m\n",
      "\u001b[1;31mValueError\u001b[0m: substring not found"
     ]
    }
   ],
   "source": [
    "link = 'https://www.finn.no/realestate/homes/search.html?filters=&location=1.22038.20131&published=1'\n",
    "\n",
    "annonser= find_links_to_ads(link)\n",
    "\n",
    "results={}\n",
    "\n",
    "for apartment in annonser:\n",
    "    soup = soup_object(apartment)\n",
    "    if vali_only_one_price(soup):\n",
    "        results[apartment]=HouseClass(soup)\n",
    "    else:\n",
    "        print('Apartment: {} is an complex with many apartments'.format(apartment))\n",
    "        \n",
    "print('<------------------- Results---------------------->')\n",
    "\n",
    "for x,y in results.items():\n",
    "    print(x)\n",
    "    print('District {}'.format(y.district))\n",
    "    print(y)\n",
    "    print(y.price)\n",
    "    print(y.house)\n",
    "    print('<------------------- New Item---------------------->')"
   ]
  },
  {
   "cell_type": "code",
   "execution_count": 11,
   "metadata": {},
   "outputs": [],
   "source": [
    "annonser = find_links_to_ads('https://www.finn.no/realestate/homes/search.html?filters=&location=1.22038.20131&published=1')"
   ]
  },
  {
   "cell_type": "code",
   "execution_count": 12,
   "metadata": {},
   "outputs": [
    {
     "data": {
      "text/plain": [
       "[]"
      ]
     },
     "execution_count": 12,
     "metadata": {},
     "output_type": "execute_result"
    }
   ],
   "source": [
    "annonser"
   ]
  },
  {
   "cell_type": "markdown",
   "metadata": {},
   "source": [
    "# Testing"
   ]
  },
  {
   "cell_type": "code",
   "execution_count": 13,
   "metadata": {},
   "outputs": [],
   "source": [
    "#soup = soup_object(link)\n",
    "#all_objects = soup.find_all('a',class_='ads__unit__link')\n",
    "#all_objects = all_objects[1:]\n",
    " #for y in all_objects:\n",
    "    #ad_link = 'http://finn.no'+y['href']\n",
    "    #annonser.append(ad_link)"
   ]
  },
  {
   "cell_type": "code",
   "execution_count": 24,
   "metadata": {},
   "outputs": [],
   "source": [
    "soup = soup_object('https://www.finn.no/realestate/homes/search.html?filters=&location=1.22038.20131&location=1.22038.20134&published=1')"
   ]
  },
  {
   "cell_type": "code",
   "execution_count": 25,
   "metadata": {},
   "outputs": [],
   "source": [
    "all_objects = soup.find_all('a',class_='ads__unit__link')"
   ]
  },
  {
   "cell_type": "code",
   "execution_count": 27,
   "metadata": {},
   "outputs": [
    {
     "name": "stdout",
     "output_type": "stream",
     "text": [
      "http://finn.nohttps://www.finn.no/realestate/homes/ad.html?finnkode=200633580\n",
      "http://finn.nohttps://www.finn.no/eiendom/nybygg/prosjekt?finnkode=172690872&location=1.22038.20131&location=1.22038.20134&published=1\n",
      "http://finn.nohttps://www.finn.no/realestate/homes/ad.html?finnkode=200667547\n"
     ]
    }
   ],
   "source": [
    "for ad in all_objects[1:]:\n",
    "    print('http://finn.no'+ad['href'])"
   ]
  },
  {
   "cell_type": "code",
   "execution_count": 29,
   "metadata": {},
   "outputs": [],
   "source": [
    "link='https://www.finn.no/realestate/homes/search.html?filters=&location=1.22038.20134&published=1'\n",
    "soup = soup_object(link)\n",
    "annonser=[]\n",
    "all_objects = soup.find_all('a',class_='ads__unit__link')\n",
    "all_objects = all_objects[1:]\n",
    "for y in all_objects:\n",
    "    ad_link = y['href']\n",
    "    annonser.append(ad_link)"
   ]
  },
  {
   "cell_type": "code",
   "execution_count": 30,
   "metadata": {},
   "outputs": [
    {
     "data": {
      "text/plain": [
       "['https://www.finn.no/realestate/homes/ad.html?finnkode=200633580',\n",
       " 'https://www.finn.no/eiendom/nybygg/prosjekt?finnkode=172690872&location=1.22038.20134&published=1',\n",
       " 'https://www.finn.no/realestate/homes/ad.html?finnkode=200667547']"
      ]
     },
     "execution_count": 30,
     "metadata": {},
     "output_type": "execute_result"
    }
   ],
   "source": [
    "annonser"
   ]
  },
  {
   "cell_type": "code",
   "execution_count": null,
   "metadata": {},
   "outputs": [],
   "source": []
  },
  {
   "cell_type": "code",
   "execution_count": null,
   "metadata": {},
   "outputs": [],
   "source": []
  },
  {
   "cell_type": "code",
   "execution_count": null,
   "metadata": {},
   "outputs": [],
   "source": []
  },
  {
   "cell_type": "code",
   "execution_count": null,
   "metadata": {},
   "outputs": [],
   "source": []
  },
  {
   "cell_type": "code",
   "execution_count": null,
   "metadata": {},
   "outputs": [],
   "source": []
  },
  {
   "cell_type": "code",
   "execution_count": null,
   "metadata": {},
   "outputs": [],
   "source": []
  }
 ],
 "metadata": {
  "kernelspec": {
   "display_name": "Python 3",
   "language": "python",
   "name": "python3"
  },
  "language_info": {
   "codemirror_mode": {
    "name": "ipython",
    "version": 3
   },
   "file_extension": ".py",
   "mimetype": "text/x-python",
   "name": "python",
   "nbconvert_exporter": "python",
   "pygments_lexer": "ipython3",
   "version": "3.7.7"
  }
 },
 "nbformat": 4,
 "nbformat_minor": 2
}
